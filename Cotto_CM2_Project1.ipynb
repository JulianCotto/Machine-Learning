{
 "cells": [
  {
   "cell_type": "markdown",
   "source": [
    "## SETUP"
   ],
   "metadata": {
    "collapsed": false
   },
   "id": "a8af4621ceebbcac"
  },
  {
   "cell_type": "markdown",
   "source": [
    "This project requires Python 3.7 or above:"
   ],
   "metadata": {
    "collapsed": false
   },
   "id": "1aab08948cd64fd2"
  },
  {
   "cell_type": "code",
   "outputs": [],
   "source": [
    "import sys\n",
    "assert sys.version_info >= (3, 7)"
   ],
   "metadata": {
    "collapsed": false,
    "ExecuteTime": {
     "end_time": "2024-02-26T03:05:47.729651900Z",
     "start_time": "2024-02-26T03:05:47.715251400Z"
    }
   },
   "id": "d27b4a588137b967",
   "execution_count": 6
  },
  {
   "cell_type": "markdown",
   "source": [
    "And TensorFlow ≥ 2.8:"
   ],
   "metadata": {
    "collapsed": false
   },
   "id": "6df9ad13345b970b"
  },
  {
   "cell_type": "code",
   "outputs": [],
   "source": [
    "from packaging import version\n",
    "import tensorflow as tf\n",
    "import pandas as pd\n",
    "import numpy as np\n",
    "assert version.parse(tf.__version__) >= version.parse(\"2.8.0\")"
   ],
   "metadata": {
    "collapsed": false,
    "ExecuteTime": {
     "end_time": "2024-02-26T03:05:47.751662500Z",
     "start_time": "2024-02-26T03:05:47.727636100Z"
    }
   },
   "id": "78d994154081475c",
   "execution_count": 7
  },
  {
   "cell_type": "markdown",
   "source": [
    "Define the default font sizes to make the figures prettier"
   ],
   "metadata": {
    "collapsed": false
   },
   "id": "a5dc11f7b6869507"
  },
  {
   "cell_type": "code",
   "outputs": [],
   "source": [
    "import matplotlib.pyplot as plt\n",
    "\n",
    "plt.rc('font', size=14)\n",
    "plt.rc('axes', labelsize=14, titlesize=14)\n",
    "plt.rc('legend', fontsize=14)\n",
    "plt.rc('xtick', labelsize=10)\n",
    "plt.rc('ytick', labelsize=10)"
   ],
   "metadata": {
    "collapsed": false,
    "ExecuteTime": {
     "end_time": "2024-02-26T03:05:47.756666600Z",
     "start_time": "2024-02-26T03:05:47.739569500Z"
    }
   },
   "id": "827a5b583eb2c776",
   "execution_count": 8
  },
  {
   "cell_type": "markdown",
   "source": [
    "## Prepare the Data"
   ],
   "metadata": {
    "collapsed": false
   },
   "id": "92c5e0f5267da0f0"
  },
  {
   "cell_type": "code",
   "outputs": [
    {
     "name": "stdout",
     "output_type": "stream",
     "text": [
      "x_train shape: (60000, 28, 28, 1)\n",
      "60000 train samples\n",
      "10000 test samples\n"
     ]
    }
   ],
   "source": [
    "# Model / data parameters\n",
    "num_classes = 10\n",
    "input_shape = (28, 28, 1)\n",
    "\n",
    "# Load the data and split it between train and test sets\n",
    "(x_train, y_train), (x_test, y_test) = tf.keras.datasets.mnist.load_data()\n",
    "\n",
    "# Scale images to the [0, 1] range\n",
    "x_train = x_train / 255\n",
    "x_test = x_test / 255\n",
    "# Make sure images have shape (28, 28, 1)\n",
    "x_train = np.expand_dims(x_train, -1)\n",
    "x_test = np.expand_dims(x_test, -1)\n",
    "print(\"x_train shape:\", x_train.shape)\n",
    "print(x_train.shape[0], \"train samples\")\n",
    "print(x_test.shape[0], \"test samples\")\n",
    "\n",
    "\n",
    "# convert class vectors to binary class matrices\n",
    "y_train = tf.keras.utils.to_categorical(y_train, num_classes)\n",
    "y_test = tf.keras.utils.to_categorical(y_test, num_classes)"
   ],
   "metadata": {
    "collapsed": false,
    "ExecuteTime": {
     "end_time": "2024-02-26T03:05:48.006622400Z",
     "start_time": "2024-02-26T03:05:47.755665700Z"
    }
   },
   "id": "a6acfae5739992ea",
   "execution_count": 9
  },
  {
   "cell_type": "markdown",
   "source": [
    "## Build the Model"
   ],
   "metadata": {
    "collapsed": false
   },
   "id": "f00a2b244d48fc22"
  },
  {
   "cell_type": "code",
   "outputs": [
    {
     "name": "stdout",
     "output_type": "stream",
     "text": [
      "WARNING:tensorflow:From C:\\Users\\User\\handson-ml3\\Cotto_CM2_Project1\\.venv\\lib\\site-packages\\keras\\src\\layers\\pooling\\max_pooling2d.py:161: The name tf.nn.max_pool is deprecated. Please use tf.nn.max_pool2d instead.\n",
      "Model: \"sequential\"\n",
      "_________________________________________________________________\n",
      " Layer (type)                Output Shape              Param #   \n",
      "=================================================================\n",
      " conv2d_1 (Conv2D)           (None, 26, 26, 32)        320       \n",
      "                                                                 \n",
      " max_pooling2d (MaxPooling2  (None, 13, 13, 32)        0         \n",
      " D)                                                              \n",
      "                                                                 \n",
      " conv2d_2 (Conv2D)           (None, 11, 11, 64)        18496     \n",
      "                                                                 \n",
      " max_pooling2d_1 (MaxPoolin  (None, 5, 5, 64)          0         \n",
      " g2D)                                                            \n",
      "                                                                 \n",
      " flatten (Flatten)           (None, 1600)              0         \n",
      "                                                                 \n",
      " dropout (Dropout)           (None, 1600)              0         \n",
      "                                                                 \n",
      " dense (Dense)               (None, 10)                16010     \n",
      "                                                                 \n",
      "=================================================================\n",
      "Total params: 34826 (136.04 KB)\n",
      "Trainable params: 34826 (136.04 KB)\n",
      "Non-trainable params: 0 (0.00 Byte)\n",
      "_________________________________________________________________\n"
     ]
    }
   ],
   "source": [
    "model = tf.keras.Sequential([\n",
    "        tf.keras.Input(shape=input_shape),\n",
    "        tf.keras.layers.Conv2D(32, kernel_size=(3, 3), activation=\"relu\"),\n",
    "        tf.keras.layers.MaxPooling2D(pool_size=(2, 2)),\n",
    "        tf.keras.layers.Conv2D(64, kernel_size=(3, 3), activation=\"relu\"),\n",
    "        tf.keras.layers.MaxPooling2D(pool_size=(2, 2)),\n",
    "        tf.keras.layers.Flatten(),\n",
    "        tf.keras.layers.Dropout(0.5),\n",
    "        tf.keras.layers.Dense(num_classes, activation=\"softmax\"),\n",
    "    ]\n",
    ")\n",
    "model.summary()"
   ],
   "metadata": {
    "collapsed": false,
    "ExecuteTime": {
     "end_time": "2024-02-26T03:05:48.164654100Z",
     "start_time": "2024-02-26T03:05:48.010215900Z"
    }
   },
   "id": "7f315ceac104f1c0",
   "execution_count": 10
  },
  {
   "cell_type": "markdown",
   "source": [
    "## Train the Model"
   ],
   "metadata": {
    "collapsed": false
   },
   "id": "972453d822f02722"
  },
  {
   "cell_type": "code",
   "outputs": [
    {
     "name": "stdout",
     "output_type": "stream",
     "text": [
      "WARNING:tensorflow:From C:\\Users\\User\\handson-ml3\\Cotto_CM2_Project1\\.venv\\lib\\site-packages\\keras\\src\\optimizers\\__init__.py:309: The name tf.train.Optimizer is deprecated. Please use tf.compat.v1.train.Optimizer instead.\n",
      "Epoch 1/30\n",
      "WARNING:tensorflow:From C:\\Users\\User\\handson-ml3\\Cotto_CM2_Project1\\.venv\\lib\\site-packages\\keras\\src\\utils\\tf_utils.py:492: The name tf.ragged.RaggedTensorValue is deprecated. Please use tf.compat.v1.ragged.RaggedTensorValue instead.\n",
      "WARNING:tensorflow:From C:\\Users\\User\\handson-ml3\\Cotto_CM2_Project1\\.venv\\lib\\site-packages\\keras\\src\\engine\\base_layer_utils.py:384: The name tf.executing_eagerly_outside_functions is deprecated. Please use tf.compat.v1.executing_eagerly_outside_functions instead.\n",
      "54000/54000 [==============================] - 74s 1ms/step - loss: 0.1586 - accuracy: 0.9508 - val_loss: 0.0486 - val_accuracy: 0.9852\n",
      "Epoch 2/30\n",
      "54000/54000 [==============================] - 74s 1ms/step - loss: 0.0889 - accuracy: 0.9733 - val_loss: 0.0415 - val_accuracy: 0.9883\n",
      "Epoch 3/30\n",
      "54000/54000 [==============================] - 74s 1ms/step - loss: 0.0823 - accuracy: 0.9764 - val_loss: 0.0419 - val_accuracy: 0.9877\n",
      "Epoch 4/30\n",
      "54000/54000 [==============================] - 74s 1ms/step - loss: 0.0777 - accuracy: 0.9777 - val_loss: 0.0436 - val_accuracy: 0.9882\n",
      "Epoch 5/30\n",
      "54000/54000 [==============================] - 74s 1ms/step - loss: 0.0761 - accuracy: 0.9775 - val_loss: 0.0492 - val_accuracy: 0.9882\n",
      "Epoch 6/30\n",
      "54000/54000 [==============================] - 73s 1ms/step - loss: 0.0776 - accuracy: 0.9788 - val_loss: 0.0482 - val_accuracy: 0.9870\n",
      "Epoch 7/30\n",
      "54000/54000 [==============================] - 74s 1ms/step - loss: 0.0754 - accuracy: 0.9789 - val_loss: 0.0413 - val_accuracy: 0.9900\n",
      "Epoch 8/30\n",
      "54000/54000 [==============================] - 74s 1ms/step - loss: 0.0768 - accuracy: 0.9791 - val_loss: 0.0402 - val_accuracy: 0.9897\n",
      "Epoch 9/30\n",
      "54000/54000 [==============================] - 74s 1ms/step - loss: 0.0778 - accuracy: 0.9791 - val_loss: 0.0503 - val_accuracy: 0.9870\n",
      "Epoch 10/30\n",
      "54000/54000 [==============================] - 74s 1ms/step - loss: 0.0803 - accuracy: 0.9793 - val_loss: 0.0490 - val_accuracy: 0.9882\n",
      "Epoch 11/30\n",
      "54000/54000 [==============================] - 74s 1ms/step - loss: 0.0811 - accuracy: 0.9778 - val_loss: 0.0536 - val_accuracy: 0.9828\n",
      "Epoch 12/30\n",
      "54000/54000 [==============================] - 74s 1ms/step - loss: 0.0822 - accuracy: 0.9787 - val_loss: 0.0537 - val_accuracy: 0.9868\n",
      "Epoch 13/30\n",
      "54000/54000 [==============================] - 74s 1ms/step - loss: 0.0814 - accuracy: 0.9780 - val_loss: 0.0490 - val_accuracy: 0.9905\n"
     ]
    }
   ],
   "source": [
    "# extract variables for easy editing\n",
    "batch_size = 1\n",
    "epochs = 30\n",
    "validation_split=0.1\n",
    "monitor_criteria = 'val_loss'\n",
    "patience_criteria = 5\n",
    "\n",
    "loss_criteria = \"categorical_crossentropy\"\n",
    "optimizer_method = \"adam\"\n",
    "accuracy_metrics = [\"accuracy\"]\n",
    "\n",
    "early_stopping_callback = tf.keras.callbacks.EarlyStopping(monitor=monitor_criteria, patience=patience_criteria) #implement early stopping callback\n",
    "\n",
    "model.compile(loss=loss_criteria, optimizer=optimizer_method, metrics=accuracy_metrics)\n",
    "history = model.fit(x_train, y_train, batch_size=batch_size, epochs=epochs, validation_split=validation_split, callbacks=[early_stopping_callback])"
   ],
   "metadata": {
    "collapsed": false,
    "ExecuteTime": {
     "end_time": "2024-02-26T03:21:49.593409400Z",
     "start_time": "2024-02-26T03:05:48.165653900Z"
    }
   },
   "id": "e4687f4e5349924d",
   "execution_count": 11
  },
  {
   "cell_type": "markdown",
   "source": [
    "## Visualize the Training Process"
   ],
   "metadata": {
    "collapsed": false
   },
   "id": "b837de3bbdb66fd6"
  },
  {
   "cell_type": "code",
   "outputs": [
    {
     "data": {
      "text/plain": "<Figure size 800x500 with 1 Axes>",
      "image/png": "[encoded data removed]"
     },
     "metadata": {},
     "output_type": "display_data"
    }
   ],
   "source": [
    "pd.DataFrame(history.history).plot(\n",
    "    figsize=(8, 5), xlim=[0, 29], ylim=[0, 1], grid=True, xlabel=\"Epoch\",\n",
    "    style=[\"r--\", \"r--.\", \"b-\", \"b-*\"])\n",
    "plt.show()"
   ],
   "metadata": {
    "collapsed": false,
    "ExecuteTime": {
     "end_time": "2024-02-26T03:21:49.764959300Z",
     "start_time": "2024-02-26T03:21:49.594410600Z"
    }
   },
   "id": "3dac14e62f14b92a",
   "execution_count": 12
  },
  {
   "cell_type": "markdown",
   "source": [
    "## Evaluate the Trained Model"
   ],
   "metadata": {
    "collapsed": false
   },
   "id": "ef22244056cc2101"
  },
  {
   "cell_type": "code",
   "outputs": [
    {
     "name": "stdout",
     "output_type": "stream",
     "text": [
      "Test loss: 0.047075770795345306\n",
      "Test accuracy: 0.9879000186920166\n"
     ]
    }
   ],
   "source": [
    "test_loss, test_accuracy = model.evaluate(x_test, y_test, verbose=0)\n",
    "\n",
    "print(\"Test loss:\", test_loss)\n",
    "print(\"Test accuracy:\", test_accuracy)"
   ],
   "metadata": {
    "collapsed": false,
    "ExecuteTime": {
     "end_time": "2024-02-26T03:21:50.217696300Z",
     "start_time": "2024-02-26T03:21:49.765960100Z"
    }
   },
   "id": "4588dbb4252f93c6",
   "execution_count": 13
  }
 ],
 "metadata": {
  "kernelspec": {
   "display_name": "Python 3",
   "language": "python",
   "name": "python3"
  },
  "language_info": {
   "codemirror_mode": {
    "name": "ipython",
    "version": 2
   },
   "file_extension": ".py",
   "mimetype": "text/x-python",
   "name": "python",
   "nbconvert_exporter": "python",
   "pygments_lexer": "ipython2",
   "version": "2.7.6"
  }
 },
 "nbformat": 4,
 "nbformat_minor": 5
}
